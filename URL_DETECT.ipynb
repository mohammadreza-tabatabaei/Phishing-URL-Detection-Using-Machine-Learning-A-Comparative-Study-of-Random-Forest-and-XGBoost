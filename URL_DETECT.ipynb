{
  "nbformat": 4,
  "nbformat_minor": 0,
  "metadata": {
    "colab": {
      "provenance": []
    },
    "kernelspec": {
      "name": "python3",
      "display_name": "Python 3"
    },
    "language_info": {
      "name": "python"
    }
  },
  "cells": [
    {
      "cell_type": "code",
      "source": [
        "import pandas as pd\n",
        "import numpy as np\n",
        "from sklearn.model_selection import train_test_split\n",
        "from sklearn.ensemble import RandomForestClassifier\n",
        "from xgboost import XGBClassifier\n",
        "from sklearn.impute import SimpleImputer\n",
        "from sklearn.preprocessing import StandardScaler\n",
        "from sklearn.metrics import accuracy_score, classification_report\n",
        "import matplotlib.pyplot as plt\n",
        "import seaborn as sns"
      ],
      "metadata": {
        "id": "2Q9b3844qxv3"
      },
      "execution_count": 2,
      "outputs": []
    },
    {
      "cell_type": "code",
      "source": [
        "# Load dataset\n",
        "df = pd.read_csv(\"phishing-dataset-variation.csv\")"
      ],
      "metadata": {
        "id": "Xfs-s9NeRq1V"
      },
      "execution_count": 3,
      "outputs": []
    },
    {
      "cell_type": "code",
      "source": [
        "# 3. Separate features and target variable\n",
        "X = df.drop(columns=[\"phishing\"])  # Drop the target column\n",
        "y = df[\"phishing\"]  # Target variable"
      ],
      "metadata": {
        "id": "tdIx5EJRTZM3"
      },
      "execution_count": 6,
      "outputs": []
    },
    {
      "cell_type": "code",
      "source": [
        "# Impute missing values in features using the median strategy\n",
        "imputer = SimpleImputer(strategy='median')\n",
        "X = pd.DataFrame(imputer.fit_transform(X), columns=X.columns)"
      ],
      "metadata": {
        "id": "UTFzj02pR_Ni"
      },
      "execution_count": 7,
      "outputs": []
    },
    {
      "cell_type": "code",
      "source": [
        "# Verify that missing values are handled\n",
        "print(\"Missing values after preprocessing:\")\n",
        "print(X.isnull().sum())"
      ],
      "metadata": {
        "colab": {
          "base_uri": "https://localhost:8080/"
        },
        "id": "dSPIfbGuSIJi",
        "outputId": "1d2d8ed9-6775-445e-a088-846e99f42470"
      },
      "execution_count": 8,
      "outputs": [
        {
          "output_type": "stream",
          "name": "stdout",
          "text": [
            "Missing values after preprocessing:\n",
            "qty_dot_url             0\n",
            "qty_hyphen_url          0\n",
            "qty_underline_url       0\n",
            "qty_slash_url           0\n",
            "qty_questionmark_url    0\n",
            "                       ..\n",
            "tls_ssl_certificate     0\n",
            "qty_redirects           0\n",
            "url_google_index        0\n",
            "domain_google_index     0\n",
            "url_shortened           0\n",
            "Length: 111, dtype: int64\n"
          ]
        }
      ]
    },
    {
      "cell_type": "code",
      "source": [
        "# Standardize the features\n",
        "scaler = StandardScaler()\n",
        "X = scaler.fit_transform(X)"
      ],
      "metadata": {
        "id": "Qu9aYXd_SJLb"
      },
      "execution_count": 9,
      "outputs": []
    },
    {
      "cell_type": "code",
      "source": [
        "# Split the dataset into training and testing sets\n",
        "X_train, X_test, y_train, y_test = train_test_split(X, y, test_size=0.2, random_state=42, stratify=y)"
      ],
      "metadata": {
        "id": "qkmU_efWSN8M"
      },
      "execution_count": 10,
      "outputs": []
    },
    {
      "cell_type": "code",
      "source": [
        "# Train Random Forest model\n",
        "rf_model = RandomForestClassifier(n_estimators=100, random_state=42)\n",
        "rf_model.fit(X_train, y_train)\n",
        "y_pred_rf = rf_model.predict(X_test)\n",
        "rf_accuracy = accuracy_score(y_test, y_pred_rf)\n",
        "print(\"Random Forest Accuracy:\", rf_accuracy)\n",
        "print(\"Random Forest Classification Report:\")\n",
        "print(classification_report(y_test, y_pred_rf))\n"
      ],
      "metadata": {
        "colab": {
          "base_uri": "https://localhost:8080/"
        },
        "id": "IG2OSBAKSSxD",
        "outputId": "150ea3cf-24c7-474b-e749-48e845853112"
      },
      "execution_count": 11,
      "outputs": [
        {
          "output_type": "stream",
          "name": "stdout",
          "text": [
            "Random Forest Accuracy: 0.9706711787930062\n",
            "Random Forest Classification Report:\n",
            "              precision    recall  f1-score   support\n",
            "\n",
            "           0       0.98      0.98      0.98     11600\n",
            "           1       0.96      0.96      0.96      6130\n",
            "\n",
            "    accuracy                           0.97     17730\n",
            "   macro avg       0.97      0.97      0.97     17730\n",
            "weighted avg       0.97      0.97      0.97     17730\n",
            "\n"
          ]
        }
      ]
    },
    {
      "cell_type": "code",
      "source": [
        "# Train XGBoost model\n",
        "xgb_model = XGBClassifier(n_estimators=100, max_depth=6, learning_rate=0.1, random_state=42)\n",
        "xgb_model.fit(X_train, y_train)\n",
        "y_pred_xgb = xgb_model.predict(X_test)\n",
        "xgb_accuracy = accuracy_score(y_test, y_pred_xgb)\n",
        "print(\"XGBoost Accuracy:\", xgb_accuracy)\n",
        "print(\"XGBoost Classification Report:\")\n",
        "print(classification_report(y_test, y_pred_xgb))"
      ],
      "metadata": {
        "colab": {
          "base_uri": "https://localhost:8080/"
        },
        "id": "4yXBVPmgSXUP",
        "outputId": "4cc202f4-6120-4f2c-bb56-3356bcbd53a3"
      },
      "execution_count": 12,
      "outputs": [
        {
          "output_type": "stream",
          "name": "stdout",
          "text": [
            "XGBoost Accuracy: 0.9624365482233502\n",
            "XGBoost Classification Report:\n",
            "              precision    recall  f1-score   support\n",
            "\n",
            "           0       0.97      0.97      0.97     11600\n",
            "           1       0.94      0.95      0.95      6130\n",
            "\n",
            "    accuracy                           0.96     17730\n",
            "   macro avg       0.96      0.96      0.96     17730\n",
            "weighted avg       0.96      0.96      0.96     17730\n",
            "\n"
          ]
        }
      ]
    },
    {
      "cell_type": "code",
      "source": [
        "# Compare model performance using a bar chart\n",
        "metrics = ['Precision', 'Recall', 'Accuracy']\n",
        "rf_scores = [0.98, 0.98, rf_accuracy]\n",
        "xgb_scores = [0.97, 0.97, xgb_accuracy]"
      ],
      "metadata": {
        "id": "EMxT-jMjSasg"
      },
      "execution_count": 13,
      "outputs": []
    },
    {
      "cell_type": "code",
      "source": [
        "x = np.arange(len(metrics))\n",
        "bar_width = 0.3"
      ],
      "metadata": {
        "id": "9QxZvDZASgq6"
      },
      "execution_count": 14,
      "outputs": []
    },
    {
      "cell_type": "code",
      "source": [
        "plt.figure(figsize=(8, 5))\n",
        "plt.bar(x - bar_width/2, rf_scores, bar_width, label='Random Forest', color='royalblue')\n",
        "plt.bar(x + bar_width/2, xgb_scores, bar_width, label='XGBoost', color='darkorange')\n",
        "plt.xlabel(\"Metrics\")\n",
        "plt.ylabel(\"Scores\")\n",
        "plt.title(\"Model Performance Comparison\")\n",
        "plt.xticks(x, metrics)\n",
        "plt.legend()\n",
        "plt.ylim(0.95, 1)  # Focus on the relevant range\n",
        "plt.grid(axis='y', linestyle='--', alpha=0.7)\n",
        "plt.show()\n"
      ],
      "metadata": {
        "colab": {
          "base_uri": "https://localhost:8080/",
          "height": 487
        },
        "id": "vUby1o-nSlhO",
        "outputId": "529d9879-3357-42f3-ff32-dbc37bf102b2"
      },
      "execution_count": 17,
      "outputs": [
        {
          "output_type": "display_data",
          "data": {
            "text/plain": [
              "<Figure size 800x500 with 1 Axes>"
            ],
            "image/png": "[encoded data removed]"
          },
          "metadata": {}
        }
      ]
    }
  ]
}